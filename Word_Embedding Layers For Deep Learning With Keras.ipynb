{
  "nbformat": 4,
  "nbformat_minor": 0,
  "metadata": {
    "colab": {
      "name": "Untitled4.ipynb",
      "provenance": [],
      "toc_visible": true,
      "mount_file_id": "1aJuFW4a2aeGjIzRCNA1bWzNyMe-aY5LS",
      "authorship_tag": "ABX9TyMNdu/ZuTaE2NJDVSygE4aT",
      "include_colab_link": true
    },
    "kernelspec": {
      "name": "python3",
      "display_name": "Python 3"
    },
    "language_info": {
      "name": "python"
    }
  },
  "cells": [
    {
      "cell_type": "markdown",
      "metadata": {
        "id": "view-in-github",
        "colab_type": "text"
      },
      "source": [
        "<a href=\"https://colab.research.google.com/github/Shubhankar9934/Shubhankar9934/blob/main/Word_Embedding%20Layers%20For%20Deep%20Learning%20With%20Keras.ipynb\" target=\"_parent\"><img src=\"https://colab.research.google.com/assets/colab-badge.svg\" alt=\"Open In Colab\"/></a>"
      ]
    },
    {
      "cell_type": "markdown",
      "source": [
        " **Word Embeddding Techniques Using Embedding Layer in Keras**"
      ],
      "metadata": {
        "id": "C3N3aHNtWoLl"
      }
    },
    {
      "cell_type": "code",
      "execution_count": 4,
      "metadata": {
        "colab": {
          "base_uri": "https://localhost:8080/"
        },
        "id": "aFEHPu60WSlW",
        "outputId": "6edb10ea-163e-41a8-ff3f-cc1ceee57130"
      },
      "outputs": [
        {
          "output_type": "stream",
          "name": "stdout",
          "text": [
            "Looking in indexes: https://pypi.org/simple, https://us-python.pkg.dev/colab-wheels/public/simple/\n",
            "Requirement already satisfied: Tensorflow in /usr/local/lib/python3.7/dist-packages (2.8.2+zzzcolab20220719082949)\n",
            "Requirement already satisfied: gast>=0.2.1 in /usr/local/lib/python3.7/dist-packages (from Tensorflow) (0.5.3)\n",
            "Requirement already satisfied: numpy>=1.20 in /usr/local/lib/python3.7/dist-packages (from Tensorflow) (1.21.6)\n",
            "Requirement already satisfied: protobuf<3.20,>=3.9.2 in /usr/local/lib/python3.7/dist-packages (from Tensorflow) (3.17.3)\n",
            "Requirement already satisfied: tensorflow-io-gcs-filesystem>=0.23.1 in /usr/local/lib/python3.7/dist-packages (from Tensorflow) (0.26.0)\n",
            "Requirement already satisfied: tensorboard<2.9,>=2.8 in /usr/local/lib/python3.7/dist-packages (from Tensorflow) (2.8.0)\n",
            "Requirement already satisfied: wrapt>=1.11.0 in /usr/local/lib/python3.7/dist-packages (from Tensorflow) (1.14.1)\n",
            "Requirement already satisfied: tensorflow-estimator<2.9,>=2.8 in /usr/local/lib/python3.7/dist-packages (from Tensorflow) (2.8.0)\n",
            "Requirement already satisfied: absl-py>=0.4.0 in /usr/local/lib/python3.7/dist-packages (from Tensorflow) (1.2.0)\n",
            "Requirement already satisfied: grpcio<2.0,>=1.24.3 in /usr/local/lib/python3.7/dist-packages (from Tensorflow) (1.47.0)\n",
            "Requirement already satisfied: typing-extensions>=3.6.6 in /usr/local/lib/python3.7/dist-packages (from Tensorflow) (4.1.1)\n",
            "Requirement already satisfied: libclang>=9.0.1 in /usr/local/lib/python3.7/dist-packages (from Tensorflow) (14.0.1)\n",
            "Requirement already satisfied: termcolor>=1.1.0 in /usr/local/lib/python3.7/dist-packages (from Tensorflow) (1.1.0)\n",
            "Requirement already satisfied: astunparse>=1.6.0 in /usr/local/lib/python3.7/dist-packages (from Tensorflow) (1.6.3)\n",
            "Requirement already satisfied: google-pasta>=0.1.1 in /usr/local/lib/python3.7/dist-packages (from Tensorflow) (0.2.0)\n",
            "Requirement already satisfied: six>=1.12.0 in /usr/local/lib/python3.7/dist-packages (from Tensorflow) (1.15.0)\n",
            "Requirement already satisfied: setuptools in /usr/local/lib/python3.7/dist-packages (from Tensorflow) (57.4.0)\n",
            "Requirement already satisfied: keras-preprocessing>=1.1.1 in /usr/local/lib/python3.7/dist-packages (from Tensorflow) (1.1.2)\n",
            "Requirement already satisfied: opt-einsum>=2.3.2 in /usr/local/lib/python3.7/dist-packages (from Tensorflow) (3.3.0)\n",
            "Requirement already satisfied: flatbuffers>=1.12 in /usr/local/lib/python3.7/dist-packages (from Tensorflow) (2.0)\n",
            "Requirement already satisfied: h5py>=2.9.0 in /usr/local/lib/python3.7/dist-packages (from Tensorflow) (3.1.0)\n",
            "Requirement already satisfied: keras<2.9,>=2.8.0rc0 in /usr/local/lib/python3.7/dist-packages (from Tensorflow) (2.8.0)\n",
            "Requirement already satisfied: wheel<1.0,>=0.23.0 in /usr/local/lib/python3.7/dist-packages (from astunparse>=1.6.0->Tensorflow) (0.37.1)\n",
            "Requirement already satisfied: cached-property in /usr/local/lib/python3.7/dist-packages (from h5py>=2.9.0->Tensorflow) (1.5.2)\n",
            "Requirement already satisfied: requests<3,>=2.21.0 in /usr/local/lib/python3.7/dist-packages (from tensorboard<2.9,>=2.8->Tensorflow) (2.23.0)\n",
            "Requirement already satisfied: werkzeug>=0.11.15 in /usr/local/lib/python3.7/dist-packages (from tensorboard<2.9,>=2.8->Tensorflow) (1.0.1)\n",
            "Requirement already satisfied: google-auth<3,>=1.6.3 in /usr/local/lib/python3.7/dist-packages (from tensorboard<2.9,>=2.8->Tensorflow) (1.35.0)\n",
            "Requirement already satisfied: tensorboard-data-server<0.7.0,>=0.6.0 in /usr/local/lib/python3.7/dist-packages (from tensorboard<2.9,>=2.8->Tensorflow) (0.6.1)\n",
            "Requirement already satisfied: tensorboard-plugin-wit>=1.6.0 in /usr/local/lib/python3.7/dist-packages (from tensorboard<2.9,>=2.8->Tensorflow) (1.8.1)\n",
            "Requirement already satisfied: google-auth-oauthlib<0.5,>=0.4.1 in /usr/local/lib/python3.7/dist-packages (from tensorboard<2.9,>=2.8->Tensorflow) (0.4.6)\n",
            "Requirement already satisfied: markdown>=2.6.8 in /usr/local/lib/python3.7/dist-packages (from tensorboard<2.9,>=2.8->Tensorflow) (3.4.1)\n",
            "Requirement already satisfied: rsa<5,>=3.1.4 in /usr/local/lib/python3.7/dist-packages (from google-auth<3,>=1.6.3->tensorboard<2.9,>=2.8->Tensorflow) (4.9)\n",
            "Requirement already satisfied: cachetools<5.0,>=2.0.0 in /usr/local/lib/python3.7/dist-packages (from google-auth<3,>=1.6.3->tensorboard<2.9,>=2.8->Tensorflow) (4.2.4)\n",
            "Requirement already satisfied: pyasn1-modules>=0.2.1 in /usr/local/lib/python3.7/dist-packages (from google-auth<3,>=1.6.3->tensorboard<2.9,>=2.8->Tensorflow) (0.2.8)\n",
            "Requirement already satisfied: requests-oauthlib>=0.7.0 in /usr/local/lib/python3.7/dist-packages (from google-auth-oauthlib<0.5,>=0.4.1->tensorboard<2.9,>=2.8->Tensorflow) (1.3.1)\n",
            "Requirement already satisfied: importlib-metadata>=4.4 in /usr/local/lib/python3.7/dist-packages (from markdown>=2.6.8->tensorboard<2.9,>=2.8->Tensorflow) (4.12.0)\n",
            "Requirement already satisfied: zipp>=0.5 in /usr/local/lib/python3.7/dist-packages (from importlib-metadata>=4.4->markdown>=2.6.8->tensorboard<2.9,>=2.8->Tensorflow) (3.8.1)\n",
            "Requirement already satisfied: pyasn1<0.5.0,>=0.4.6 in /usr/local/lib/python3.7/dist-packages (from pyasn1-modules>=0.2.1->google-auth<3,>=1.6.3->tensorboard<2.9,>=2.8->Tensorflow) (0.4.8)\n",
            "Requirement already satisfied: urllib3!=1.25.0,!=1.25.1,<1.26,>=1.21.1 in /usr/local/lib/python3.7/dist-packages (from requests<3,>=2.21.0->tensorboard<2.9,>=2.8->Tensorflow) (1.24.3)\n",
            "Requirement already satisfied: idna<3,>=2.5 in /usr/local/lib/python3.7/dist-packages (from requests<3,>=2.21.0->tensorboard<2.9,>=2.8->Tensorflow) (2.10)\n",
            "Requirement already satisfied: certifi>=2017.4.17 in /usr/local/lib/python3.7/dist-packages (from requests<3,>=2.21.0->tensorboard<2.9,>=2.8->Tensorflow) (2022.6.15)\n",
            "Requirement already satisfied: chardet<4,>=3.0.2 in /usr/local/lib/python3.7/dist-packages (from requests<3,>=2.21.0->tensorboard<2.9,>=2.8->Tensorflow) (3.0.4)\n",
            "Requirement already satisfied: oauthlib>=3.0.0 in /usr/local/lib/python3.7/dist-packages (from requests-oauthlib>=0.7.0->google-auth-oauthlib<0.5,>=0.4.1->tensorboard<2.9,>=2.8->Tensorflow) (3.2.0)\n",
            "Looking in indexes: https://pypi.org/simple, https://us-python.pkg.dev/colab-wheels/public/simple/\n",
            "Requirement already satisfied: keras in /usr/local/lib/python3.7/dist-packages (2.8.0)\n"
          ]
        }
      ],
      "source": [
        "# Libraries used Tensorflow >2.0 and Keras\n",
        "!pip install Tensorflow\n",
        "!pip install keras"
      ]
    },
    {
      "cell_type": "code",
      "source": [
        "## Tensorflow >2.0\n",
        "from tensorflow.keras.preprocessing.text import one_hot"
      ],
      "metadata": {
        "id": "jH24Dx44XM_b"
      },
      "execution_count": 7,
      "outputs": []
    },
    {
      "cell_type": "code",
      "source": [
        "## Sentences \n",
        "sent = ['the glass of milk',\n",
        "        'the glass of juice',\n",
        "        'the cup of tea',\n",
        "        'I am a good boy',\n",
        "        'understand the meaning of words',\n",
        "        'your videos are good',]"
      ],
      "metadata": {
        "id": "LdsSM-40Xk8n"
      },
      "execution_count": 8,
      "outputs": []
    },
    {
      "cell_type": "code",
      "source": [
        "# Sentences\n",
        "sent"
      ],
      "metadata": {
        "colab": {
          "base_uri": "https://localhost:8080/"
        },
        "id": "M_2_YieGYlFz",
        "outputId": "033722eb-febb-403d-d776-46aee72b7618"
      },
      "execution_count": 22,
      "outputs": [
        {
          "output_type": "execute_result",
          "data": {
            "text/plain": [
              "['the glass of milk',\n",
              " 'the glass of juice',\n",
              " 'the cup of tea',\n",
              " 'I am a good boy',\n",
              " 'understand the meaning of words',\n",
              " 'your videos are good']"
            ]
          },
          "metadata": {},
          "execution_count": 22
        }
      ]
    },
    {
      "cell_type": "code",
      "source": [
        "## Vocabulary Size\n",
        "voc_size = 10000"
      ],
      "metadata": {
        "id": "b-8HQmtQYmKs"
      },
      "execution_count": 21,
      "outputs": []
    },
    {
      "cell_type": "markdown",
      "source": [
        "**One Hot Representation**\n"
      ],
      "metadata": {
        "id": "KFd-BPvcZBfr"
      }
    },
    {
      "cell_type": "code",
      "source": [
        "\n",
        "## One Hot Representation Gives Index from the Dictionary.\n",
        "onehot_repr=[one_hot(words,voc_size)for words in sent] \n",
        "print(onehot_repr)"
      ],
      "metadata": {
        "colab": {
          "base_uri": "https://localhost:8080/"
        },
        "id": "Gqb06uNBZAnV",
        "outputId": "5fbdfa0d-e228-45c7-99e4-25be494261d9"
      },
      "execution_count": 11,
      "outputs": [
        {
          "output_type": "stream",
          "name": "stdout",
          "text": [
            "[[4994, 6784, 7466, 2988], [4994, 6784, 7466, 6748], [4994, 9423, 7466, 9259], [2387, 8677, 6157, 6415, 8912], [5994, 4994, 8853, 7466, 915], [841, 5354, 1455, 6415]]\n"
          ]
        }
      ]
    },
    {
      "cell_type": "markdown",
      "source": [
        "**Word Embedding Represntation**"
      ],
      "metadata": {
        "id": "CbeAfetZZHu6"
      }
    },
    {
      "cell_type": "code",
      "source": [
        "from tensorflow.keras.layers import Embedding\n",
        "from tensorflow.keras.preprocessing.sequence import pad_sequences\n",
        "from tensorflow.keras.models import Sequential"
      ],
      "metadata": {
        "id": "SxQgcSapYsub"
      },
      "execution_count": 12,
      "outputs": []
    },
    {
      "cell_type": "code",
      "source": [
        "import numpy as np"
      ],
      "metadata": {
        "id": "75hHNiNlZNCm"
      },
      "execution_count": 13,
      "outputs": []
    },
    {
      "cell_type": "code",
      "source": [
        "\n",
        "# One Hot Representation passing through Embedding Layer in Keras to form \n",
        "# Embedding Matrix.\n",
        "sent_length=8 #( Here we are sending maximum length of sentences so that the \n",
        "#                 pad_sequences must have kept all the sentences having same word)\n",
        "embedded_docs=pad_sequences(onehot_repr,padding='pre',maxlen=sent_length)\n",
        "# ( See in the output here is four words but adding padding param we convert into \n",
        "#  8 words sentences)\n",
        "# Here we are using 'pre' that's why padding is adding previous to the word.\n",
        "# if we are using 'post' then padding is adding after the words\n",
        "print(embedded_docs)"
      ],
      "metadata": {
        "colab": {
          "base_uri": "https://localhost:8080/"
        },
        "id": "ApvO1prYZPWU",
        "outputId": "2e9f4bb5-13e5-460f-bd96-fc9d09638643"
      },
      "execution_count": 24,
      "outputs": [
        {
          "output_type": "stream",
          "name": "stdout",
          "text": [
            "[[   0    0    0    0 4994 6784 7466 2988]\n",
            " [   0    0    0    0 4994 6784 7466 6748]\n",
            " [   0    0    0    0 4994 9423 7466 9259]\n",
            " [   0    0    0 2387 8677 6157 6415 8912]\n",
            " [   0    0    0 5994 4994 8853 7466  915]\n",
            " [   0    0    0    0  841 5354 1455 6415]]\n"
          ]
        }
      ]
    },
    {
      "cell_type": "code",
      "source": [
        "# Must Have to assign the Dimension of the matrix because we are doing feature \n",
        "# Representation.\n",
        "dim=10"
      ],
      "metadata": {
        "id": "xGlDbtQRZSBT"
      },
      "execution_count": 15,
      "outputs": []
    },
    {
      "cell_type": "code",
      "source": [
        "model=Sequential()\n",
        "model.add(Embedding(voc_size,10,input_length=sent_length)) # Here model is added embeding\n",
        "model.compile('adam','mse')# (using adam optimizer and preformance matrix mean squared error (mse))"
      ],
      "metadata": {
        "id": "yWrUN3yQZUfH"
      },
      "execution_count": 16,
      "outputs": []
    },
    {
      "cell_type": "code",
      "source": [
        "model.summary()"
      ],
      "metadata": {
        "colab": {
          "base_uri": "https://localhost:8080/"
        },
        "id": "QpHSD9I6ZWoo",
        "outputId": "04b2a206-5b24-4b80-e085-79d81e3d084a"
      },
      "execution_count": 17,
      "outputs": [
        {
          "output_type": "stream",
          "name": "stdout",
          "text": [
            "Model: \"sequential\"\n",
            "_________________________________________________________________\n",
            " Layer (type)                Output Shape              Param #   \n",
            "=================================================================\n",
            " embedding (Embedding)       (None, 8, 10)             100000    \n",
            "                                                                 \n",
            "=================================================================\n",
            "Total params: 100,000\n",
            "Trainable params: 100,000\n",
            "Non-trainable params: 0\n",
            "_________________________________________________________________\n"
          ]
        }
      ]
    },
    {
      "cell_type": "code",
      "source": [
        "print(model.predict(embedded_docs))"
      ],
      "metadata": {
        "colab": {
          "base_uri": "https://localhost:8080/"
        },
        "id": "-hpHa_0XZYxA",
        "outputId": "0df05770-468e-4f65-9810-c3c166ed59a4"
      },
      "execution_count": 18,
      "outputs": [
        {
          "output_type": "stream",
          "name": "stdout",
          "text": [
            "[[[-0.03136565 -0.01105386  0.01131023  0.00725819  0.00702801\n",
            "    0.04002908 -0.02790256 -0.03956247  0.01538916 -0.01355677]\n",
            "  [-0.03136565 -0.01105386  0.01131023  0.00725819  0.00702801\n",
            "    0.04002908 -0.02790256 -0.03956247  0.01538916 -0.01355677]\n",
            "  [-0.03136565 -0.01105386  0.01131023  0.00725819  0.00702801\n",
            "    0.04002908 -0.02790256 -0.03956247  0.01538916 -0.01355677]\n",
            "  [-0.03136565 -0.01105386  0.01131023  0.00725819  0.00702801\n",
            "    0.04002908 -0.02790256 -0.03956247  0.01538916 -0.01355677]\n",
            "  [-0.02727523 -0.04132672 -0.03071368 -0.00578097  0.0259596\n",
            "   -0.01937931  0.02401114  0.009759   -0.00656857  0.00147909]\n",
            "  [ 0.03407836  0.00523255  0.01055221  0.02348055  0.03702087\n",
            "    0.02171155  0.02844366  0.03412673 -0.01270262 -0.01429207]\n",
            "  [-0.04888978  0.02594057 -0.01645416  0.01257533 -0.04057191\n",
            "    0.02984525  0.04364684 -0.03007834 -0.01696737 -0.03457423]\n",
            "  [ 0.01465262  0.0106729  -0.02858303  0.04869552  0.04621622\n",
            "   -0.03861774  0.03016387  0.00544106  0.01627864 -0.04637579]]\n",
            "\n",
            " [[-0.03136565 -0.01105386  0.01131023  0.00725819  0.00702801\n",
            "    0.04002908 -0.02790256 -0.03956247  0.01538916 -0.01355677]\n",
            "  [-0.03136565 -0.01105386  0.01131023  0.00725819  0.00702801\n",
            "    0.04002908 -0.02790256 -0.03956247  0.01538916 -0.01355677]\n",
            "  [-0.03136565 -0.01105386  0.01131023  0.00725819  0.00702801\n",
            "    0.04002908 -0.02790256 -0.03956247  0.01538916 -0.01355677]\n",
            "  [-0.03136565 -0.01105386  0.01131023  0.00725819  0.00702801\n",
            "    0.04002908 -0.02790256 -0.03956247  0.01538916 -0.01355677]\n",
            "  [-0.02727523 -0.04132672 -0.03071368 -0.00578097  0.0259596\n",
            "   -0.01937931  0.02401114  0.009759   -0.00656857  0.00147909]\n",
            "  [ 0.03407836  0.00523255  0.01055221  0.02348055  0.03702087\n",
            "    0.02171155  0.02844366  0.03412673 -0.01270262 -0.01429207]\n",
            "  [-0.04888978  0.02594057 -0.01645416  0.01257533 -0.04057191\n",
            "    0.02984525  0.04364684 -0.03007834 -0.01696737 -0.03457423]\n",
            "  [ 0.03917677 -0.00483519 -0.01585175  0.01727495  0.00981092\n",
            "   -0.02117215  0.02605944  0.01871264 -0.02451682 -0.02820406]]\n",
            "\n",
            " [[-0.03136565 -0.01105386  0.01131023  0.00725819  0.00702801\n",
            "    0.04002908 -0.02790256 -0.03956247  0.01538916 -0.01355677]\n",
            "  [-0.03136565 -0.01105386  0.01131023  0.00725819  0.00702801\n",
            "    0.04002908 -0.02790256 -0.03956247  0.01538916 -0.01355677]\n",
            "  [-0.03136565 -0.01105386  0.01131023  0.00725819  0.00702801\n",
            "    0.04002908 -0.02790256 -0.03956247  0.01538916 -0.01355677]\n",
            "  [-0.03136565 -0.01105386  0.01131023  0.00725819  0.00702801\n",
            "    0.04002908 -0.02790256 -0.03956247  0.01538916 -0.01355677]\n",
            "  [-0.02727523 -0.04132672 -0.03071368 -0.00578097  0.0259596\n",
            "   -0.01937931  0.02401114  0.009759   -0.00656857  0.00147909]\n",
            "  [ 0.03585337  0.0299865   0.04730128  0.02070311 -0.04770477\n",
            "   -0.03366961  0.03150311 -0.00328965 -0.01903294 -0.01218725]\n",
            "  [-0.04888978  0.02594057 -0.01645416  0.01257533 -0.04057191\n",
            "    0.02984525  0.04364684 -0.03007834 -0.01696737 -0.03457423]\n",
            "  [-0.00313795 -0.03256421 -0.0154973   0.03208984 -0.03608395\n",
            "   -0.02391887  0.00307874  0.01404059 -0.04024347 -0.02563736]]\n",
            "\n",
            " [[-0.03136565 -0.01105386  0.01131023  0.00725819  0.00702801\n",
            "    0.04002908 -0.02790256 -0.03956247  0.01538916 -0.01355677]\n",
            "  [-0.03136565 -0.01105386  0.01131023  0.00725819  0.00702801\n",
            "    0.04002908 -0.02790256 -0.03956247  0.01538916 -0.01355677]\n",
            "  [-0.03136565 -0.01105386  0.01131023  0.00725819  0.00702801\n",
            "    0.04002908 -0.02790256 -0.03956247  0.01538916 -0.01355677]\n",
            "  [ 0.03700684 -0.02084918 -0.03915957 -0.00749227  0.04475043\n",
            "   -0.03921779 -0.03719435  0.0241037  -0.01119377  0.04036287]\n",
            "  [ 0.03643427 -0.00930994  0.01851609  0.0389833  -0.00528098\n",
            "    0.0174087   0.03070733 -0.02050352  0.0021911   0.02257441]\n",
            "  [-0.03717856  0.02848733  0.04749936  0.02007401 -0.0285792\n",
            "    0.04481776 -0.04943689  0.01339232  0.03797768  0.0439156 ]\n",
            "  [ 0.04301501 -0.04838726 -0.04182846 -0.02014643  0.03263669\n",
            "   -0.01008165  0.00587113 -0.01799542 -0.02904381  0.01480729]\n",
            "  [-0.00552347  0.04406765  0.01687365 -0.03367789  0.01484001\n",
            "    0.02453042 -0.03677881 -0.03433795 -0.03619843  0.01341028]]\n",
            "\n",
            " [[-0.03136565 -0.01105386  0.01131023  0.00725819  0.00702801\n",
            "    0.04002908 -0.02790256 -0.03956247  0.01538916 -0.01355677]\n",
            "  [-0.03136565 -0.01105386  0.01131023  0.00725819  0.00702801\n",
            "    0.04002908 -0.02790256 -0.03956247  0.01538916 -0.01355677]\n",
            "  [-0.03136565 -0.01105386  0.01131023  0.00725819  0.00702801\n",
            "    0.04002908 -0.02790256 -0.03956247  0.01538916 -0.01355677]\n",
            "  [-0.01088141  0.04080932  0.03286197 -0.02085025 -0.01094142\n",
            "    0.02142999 -0.04825511  0.00868981 -0.01614572  0.03502368]\n",
            "  [-0.02727523 -0.04132672 -0.03071368 -0.00578097  0.0259596\n",
            "   -0.01937931  0.02401114  0.009759   -0.00656857  0.00147909]\n",
            "  [ 0.02658001 -0.01044917 -0.01038376  0.02597174  0.04242964\n",
            "   -0.04316162 -0.01920478 -0.04264196  0.01092485 -0.01673099]\n",
            "  [-0.04888978  0.02594057 -0.01645416  0.01257533 -0.04057191\n",
            "    0.02984525  0.04364684 -0.03007834 -0.01696737 -0.03457423]\n",
            "  [-0.02831703  0.02901504 -0.04001077  0.04598274 -0.01736894\n",
            "   -0.00566617 -0.01919072  0.00246216  0.02333352  0.04018482]]\n",
            "\n",
            " [[-0.03136565 -0.01105386  0.01131023  0.00725819  0.00702801\n",
            "    0.04002908 -0.02790256 -0.03956247  0.01538916 -0.01355677]\n",
            "  [-0.03136565 -0.01105386  0.01131023  0.00725819  0.00702801\n",
            "    0.04002908 -0.02790256 -0.03956247  0.01538916 -0.01355677]\n",
            "  [-0.03136565 -0.01105386  0.01131023  0.00725819  0.00702801\n",
            "    0.04002908 -0.02790256 -0.03956247  0.01538916 -0.01355677]\n",
            "  [-0.03136565 -0.01105386  0.01131023  0.00725819  0.00702801\n",
            "    0.04002908 -0.02790256 -0.03956247  0.01538916 -0.01355677]\n",
            "  [ 0.02358091 -0.00089784  0.01239667  0.04819259 -0.03495048\n",
            "    0.03446969  0.03229079  0.02978982 -0.0025785  -0.03146036]\n",
            "  [ 0.02875657 -0.04540835  0.03919624 -0.03047035  0.02289556\n",
            "   -0.0380045   0.0327431  -0.03563869  0.04433993 -0.02201297]\n",
            "  [ 0.02866337 -0.03074592 -0.03115663 -0.01581514 -0.03016782\n",
            "    0.04591359 -0.0374786   0.02543298 -0.03491951  0.0078117 ]\n",
            "  [ 0.04301501 -0.04838726 -0.04182846 -0.02014643  0.03263669\n",
            "   -0.01008165  0.00587113 -0.01799542 -0.02904381  0.01480729]]]\n"
          ]
        }
      ]
    },
    {
      "cell_type": "code",
      "source": [
        "embedded_docs[0]"
      ],
      "metadata": {
        "colab": {
          "base_uri": "https://localhost:8080/"
        },
        "id": "Ad8mhEWKZbvk",
        "outputId": "28e321b3-8f0d-4d37-aada-69b5c5104373"
      },
      "execution_count": 19,
      "outputs": [
        {
          "output_type": "execute_result",
          "data": {
            "text/plain": [
              "array([   0,    0,    0,    0, 4994, 6784, 7466, 2988], dtype=int32)"
            ]
          },
          "metadata": {},
          "execution_count": 19
        }
      ]
    },
    {
      "cell_type": "code",
      "source": [
        "# Let's See Here Every Words in embedded_docs[0] is converted into 10 vectors.\n",
        "print(model.predict(embedded_docs)[0])"
      ],
      "metadata": {
        "colab": {
          "base_uri": "https://localhost:8080/"
        },
        "id": "4UwAqkw-ZfCq",
        "outputId": "a02b1cd8-068a-4239-e615-4b565631b693"
      },
      "execution_count": 20,
      "outputs": [
        {
          "output_type": "stream",
          "name": "stdout",
          "text": [
            "[[-0.03136565 -0.01105386  0.01131023  0.00725819  0.00702801  0.04002908\n",
            "  -0.02790256 -0.03956247  0.01538916 -0.01355677]\n",
            " [-0.03136565 -0.01105386  0.01131023  0.00725819  0.00702801  0.04002908\n",
            "  -0.02790256 -0.03956247  0.01538916 -0.01355677]\n",
            " [-0.03136565 -0.01105386  0.01131023  0.00725819  0.00702801  0.04002908\n",
            "  -0.02790256 -0.03956247  0.01538916 -0.01355677]\n",
            " [-0.03136565 -0.01105386  0.01131023  0.00725819  0.00702801  0.04002908\n",
            "  -0.02790256 -0.03956247  0.01538916 -0.01355677]\n",
            " [-0.02727523 -0.04132672 -0.03071368 -0.00578097  0.0259596  -0.01937931\n",
            "   0.02401114  0.009759   -0.00656857  0.00147909]\n",
            " [ 0.03407836  0.00523255  0.01055221  0.02348055  0.03702087  0.02171155\n",
            "   0.02844366  0.03412673 -0.01270262 -0.01429207]\n",
            " [-0.04888978  0.02594057 -0.01645416  0.01257533 -0.04057191  0.02984525\n",
            "   0.04364684 -0.03007834 -0.01696737 -0.03457423]\n",
            " [ 0.01465262  0.0106729  -0.02858303  0.04869552  0.04621622 -0.03861774\n",
            "   0.03016387  0.00544106  0.01627864 -0.04637579]]\n"
          ]
        }
      ]
    },
    {
      "cell_type": "markdown",
      "source": [
        "here we are observing that the first 4 value is same beacause starting value in embeded_docs[0] is same i.e 0.\n",
        "array([   0,    0,    0,    0, 4994, 6784, 7466, 2988], dtype=int32). Afterwords all words is converted."
      ],
      "metadata": {
        "id": "tVmqRNVBfnZR"
      }
    },
    {
      "cell_type": "code",
      "source": [
        "# https://machinelearningmastery.com/use-word-embedding-layers-deep-learning-keras/\n",
        "\n",
        "# All intutions has been drawn from here."
      ],
      "metadata": {
        "id": "49GGtT4hZhLl"
      },
      "execution_count": 25,
      "outputs": []
    },
    {
      "cell_type": "code",
      "source": [
        ""
      ],
      "metadata": {
        "id": "jFqdKGY2gx1J"
      },
      "execution_count": null,
      "outputs": []
    }
  ]
}