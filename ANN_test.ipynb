{
  "nbformat": 4,
  "nbformat_minor": 0,
  "metadata": {
    "colab": {
      "name": "ANN_test.ipynb",
      "provenance": [],
      "mount_file_id": "1RIIZCoX-jphL93CGjQbDtZhaJY8Rvv97",
      "authorship_tag": "ABX9TyNvlyacxfUzfIhCupGZtiRf",
      "include_colab_link": true
    },
    "kernelspec": {
      "name": "python3",
      "display_name": "Python 3"
    },
    "language_info": {
      "name": "python"
    },
    "accelerator": "GPU",
    "gpuClass": "standard"
  },
  "cells": [
    {
      "cell_type": "markdown",
      "metadata": {
        "id": "view-in-github",
        "colab_type": "text"
      },
      "source": [
        "<a href=\"https://colab.research.google.com/github/Shubhankar9934/Shubhankar9934/blob/main/ANN_test.ipynb\" target=\"_parent\"><img src=\"https://colab.research.google.com/assets/colab-badge.svg\" alt=\"Open In Colab\"/></a>"
      ]
    },
    {
      "cell_type": "code",
      "execution_count": 2,
      "metadata": {
        "colab": {
          "base_uri": "https://localhost:8080/"
        },
        "id": "XeB8zEx9INwL",
        "outputId": "e11f95d2-28a7-45c0-b55d-9c5c702ecd11"
      },
      "outputs": [
        {
          "output_type": "stream",
          "name": "stdout",
          "text": [
            "Mounted at /content/drive\n"
          ]
        }
      ],
      "source": [
        "from google.colab import drive\n",
        "drive.mount('/content/drive',force_remount=True)"
      ]
    },
    {
      "cell_type": "code",
      "source": [
        "!pip install keras"
      ],
      "metadata": {
        "colab": {
          "base_uri": "https://localhost:8080/"
        },
        "id": "o39kqgb1J1in",
        "outputId": "b6c29cc4-6851-4ca7-fa80-4e4abc65684a"
      },
      "execution_count": 3,
      "outputs": [
        {
          "output_type": "stream",
          "name": "stdout",
          "text": [
            "Looking in indexes: https://pypi.org/simple, https://us-python.pkg.dev/colab-wheels/public/simple/\n",
            "Requirement already satisfied: keras in /usr/local/lib/python3.7/dist-packages (2.8.0)\n"
          ]
        }
      ]
    },
    {
      "cell_type": "code",
      "source": [
        "import pandas as pd"
      ],
      "metadata": {
        "id": "b9r7OmLnJ8N9"
      },
      "execution_count": 4,
      "outputs": []
    },
    {
      "cell_type": "code",
      "source": [
        "# Artificial Neural Network\n",
        "\n",
        "\n",
        "# Data Preprocessing\n",
        "\n",
        "# Importing the Libraries\n",
        "#import numpy as np\n",
        "import matplotlib.pyplot as plt\n",
        "import pandas as pd\n",
        "\n",
        "# Importing the Dataset\n",
        "\n",
        "dataset = pd.read_csv('/content/drive/MyDrive/Google Colab/ANN/Churn_Modelling.csv')\n",
        "X = dataset.iloc[: ,3:13]\n",
        "y = dataset.iloc[:,13]\n",
        "\n",
        "# Create Dummy Feature/Variables\n",
        "\n",
        "geography = pd.get_dummies(data = X[\"Geography\"],drop_first=True)\n",
        "gender = pd.get_dummies( data= X[\"Gender\"],drop_first=True)\n",
        "\n",
        "\n",
        "# Concatenate the DataFrame\n",
        "\n",
        "X = pd.concat([X,geography,gender],axis = 1)\n",
        "\n",
        "## Drop Unnecessory Columns\n",
        "\n",
        "X = X.drop(['Geography','Gender'],axis = 1)\n",
        "\n",
        "# Splitting the Dataset into the training set and test set\n",
        "\n",
        "from sklearn.model_selection import train_test_split\n",
        "X_train,X_test,y_train,y_test = train_test_split(X,y,test_size=0.2,random_state=0)\n",
        "\n",
        "# Feature Scaling\n",
        "\n",
        "from sklearn.preprocessing import StandardScaler\n",
        "sc = StandardScaler()\n",
        "sc.fit(X_train,y_train)\n",
        "X_train = sc.transform(X_train)\n",
        "X_test = sc.transform(X_test)\n",
        "\n",
        "# Importing The Keras libraries and packages\n",
        "import keras\n",
        "from keras.models import Sequential\n",
        "from keras.layers import Dense\n",
        "from keras.layers import LeakyReLU,PReLU,ELU\n",
        "from keras.layers import Dropout\n",
        "\n",
        "# Intialiation Of ANN\n",
        "\n",
        "classifier = Sequential()\n",
        "\n",
        "# Adding the input layer and first hidden layer\n",
        "classifier.add(Dense(units= 6,kernel_initializer='he_uniform',activation='relu',input_dim= 11))\n",
        "#classifier.add(Dropout(0.3))\n",
        "# Adding the Second Hidden Layer\n",
        "classifier.add(Dense(units=6,kernel_initializer='he_uniform',activation='relu'))\n",
        "#classifier.add(Dropout(0.2))\n",
        "# Adding the output layer\n",
        "\n",
        "classifier.add(Dense(units=1,kernel_initializer='glorot_uniform',activation = 'sigmoid'))\n",
        "\n",
        "# Compiling the ANN\n",
        "classifier.compile(optimizer='Adamax',loss = 'binary_crossentropy',metrics = ['accuracy'])\n",
        "\n",
        "# fitting the ANN to training set\n",
        "model_history = classifier.fit(X_train,y_train,batch_size= 10,epochs=100,validation_split=0.33)\n",
        "\n",
        "# list all data in history\n",
        "\n",
        "print(model_history.history.keys())\n",
        "\n",
        "# summarize history for accuracy\n",
        "plt.plot(model_history.history['accuracy'])\n",
        "plt.plot(model_history.history['val_accuracy'])\n",
        "plt.title('model accuracy')\n",
        "plt.ylabel('accuracy')\n",
        "plt.xlabel('epoch')\n",
        "plt.legend(['train', 'test'], loc='upper left')\n",
        "plt.show()\n",
        "\n",
        "# summarize history for loss\n",
        "plt.plot(model_history.history['loss'])\n",
        "plt.plot(model_history.history['val_loss'])\n",
        "plt.title('model loss')\n",
        "plt.ylabel('loss')\n",
        "plt.xlabel('epoch')\n",
        "plt.legend(['train', 'test'], loc='upper left')\n",
        "plt.show()\n",
        "\n",
        "# Part 3 - Making the predictions and evaluating the model\n",
        "\n",
        "# Predicting the Test set results\n",
        "y_pred = classifier.predict(X_test)\n",
        "y_pred = (y_pred > 0.5)\n",
        "\n",
        "# Making the Confusion Matrix\n",
        "from sklearn.metrics import confusion_matrix\n",
        "cm = confusion_matrix(y_test, y_pred)\n",
        "cm\n",
        "\n",
        "# Calculate the Accuracy\n",
        "from sklearn.metrics import accuracy_score\n",
        "score=accuracy_score(y_pred,y_test)\n",
        "\n",
        "score\n",
        "\n"
      ],
      "metadata": {
        "colab": {
          "base_uri": "https://localhost:8080/",
          "height": 1000
        },
        "id": "UZnGrAqAKJnm",
        "outputId": "3bd0e32c-7530-4a82-c0db-26bcae4c6262"
      },
      "execution_count": 5,
      "outputs": [
        {
          "output_type": "stream",
          "name": "stdout",
          "text": [
            "Epoch 1/100\n",
            "536/536 [==============================] - 7s 7ms/step - loss: 0.7885 - accuracy: 0.5212 - val_loss: 0.5864 - val_accuracy: 0.6888\n",
            "Epoch 2/100\n",
            "536/536 [==============================] - 3s 6ms/step - loss: 0.5253 - accuracy: 0.7710 - val_loss: 0.5019 - val_accuracy: 0.7902\n",
            "Epoch 3/100\n",
            "536/536 [==============================] - 4s 7ms/step - loss: 0.4885 - accuracy: 0.7947 - val_loss: 0.4859 - val_accuracy: 0.7925\n",
            "Epoch 4/100\n",
            "536/536 [==============================] - 4s 8ms/step - loss: 0.4761 - accuracy: 0.7955 - val_loss: 0.4755 - val_accuracy: 0.7936\n",
            "Epoch 5/100\n",
            "536/536 [==============================] - 3s 6ms/step - loss: 0.4667 - accuracy: 0.7964 - val_loss: 0.4671 - val_accuracy: 0.7944\n",
            "Epoch 6/100\n",
            "536/536 [==============================] - 4s 7ms/step - loss: 0.4583 - accuracy: 0.7977 - val_loss: 0.4594 - val_accuracy: 0.7936\n",
            "Epoch 7/100\n",
            "536/536 [==============================] - 3s 5ms/step - loss: 0.4505 - accuracy: 0.8001 - val_loss: 0.4527 - val_accuracy: 0.7963\n",
            "Epoch 8/100\n",
            "536/536 [==============================] - 2s 3ms/step - loss: 0.4436 - accuracy: 0.8035 - val_loss: 0.4465 - val_accuracy: 0.8012\n",
            "Epoch 9/100\n",
            "536/536 [==============================] - 2s 4ms/step - loss: 0.4373 - accuracy: 0.8071 - val_loss: 0.4411 - val_accuracy: 0.8054\n",
            "Epoch 10/100\n",
            "536/536 [==============================] - 2s 4ms/step - loss: 0.4321 - accuracy: 0.8117 - val_loss: 0.4366 - val_accuracy: 0.8058\n",
            "Epoch 11/100\n",
            "536/536 [==============================] - 2s 4ms/step - loss: 0.4276 - accuracy: 0.8147 - val_loss: 0.4328 - val_accuracy: 0.8061\n",
            "Epoch 12/100\n",
            "536/536 [==============================] - 2s 3ms/step - loss: 0.4239 - accuracy: 0.8156 - val_loss: 0.4296 - val_accuracy: 0.8050\n",
            "Epoch 13/100\n",
            "536/536 [==============================] - 2s 4ms/step - loss: 0.4206 - accuracy: 0.8184 - val_loss: 0.4269 - val_accuracy: 0.8092\n",
            "Epoch 14/100\n",
            "536/536 [==============================] - 2s 3ms/step - loss: 0.4179 - accuracy: 0.8192 - val_loss: 0.4248 - val_accuracy: 0.8088\n",
            "Epoch 15/100\n",
            "536/536 [==============================] - 2s 3ms/step - loss: 0.4153 - accuracy: 0.8203 - val_loss: 0.4230 - val_accuracy: 0.8111\n",
            "Epoch 16/100\n",
            "536/536 [==============================] - 2s 3ms/step - loss: 0.4131 - accuracy: 0.8220 - val_loss: 0.4212 - val_accuracy: 0.8141\n",
            "Epoch 17/100\n",
            "536/536 [==============================] - 2s 3ms/step - loss: 0.4109 - accuracy: 0.8227 - val_loss: 0.4196 - val_accuracy: 0.8156\n",
            "Epoch 18/100\n",
            "536/536 [==============================] - 2s 4ms/step - loss: 0.4090 - accuracy: 0.8235 - val_loss: 0.4181 - val_accuracy: 0.8156\n",
            "Epoch 19/100\n",
            "536/536 [==============================] - 2s 3ms/step - loss: 0.4075 - accuracy: 0.8238 - val_loss: 0.4170 - val_accuracy: 0.8164\n",
            "Epoch 20/100\n",
            "536/536 [==============================] - 2s 3ms/step - loss: 0.4060 - accuracy: 0.8240 - val_loss: 0.4159 - val_accuracy: 0.8171\n",
            "Epoch 21/100\n",
            "536/536 [==============================] - 2s 3ms/step - loss: 0.4046 - accuracy: 0.8257 - val_loss: 0.4147 - val_accuracy: 0.8186\n",
            "Epoch 22/100\n",
            "536/536 [==============================] - 2s 3ms/step - loss: 0.4032 - accuracy: 0.8259 - val_loss: 0.4136 - val_accuracy: 0.8175\n",
            "Epoch 23/100\n",
            "536/536 [==============================] - 2s 4ms/step - loss: 0.4020 - accuracy: 0.8259 - val_loss: 0.4125 - val_accuracy: 0.8175\n",
            "Epoch 24/100\n",
            "536/536 [==============================] - 2s 3ms/step - loss: 0.4007 - accuracy: 0.8257 - val_loss: 0.4114 - val_accuracy: 0.8194\n",
            "Epoch 25/100\n",
            "536/536 [==============================] - 2s 4ms/step - loss: 0.3996 - accuracy: 0.8263 - val_loss: 0.4103 - val_accuracy: 0.8201\n",
            "Epoch 26/100\n",
            "536/536 [==============================] - 2s 3ms/step - loss: 0.3985 - accuracy: 0.8261 - val_loss: 0.4092 - val_accuracy: 0.8190\n",
            "Epoch 27/100\n",
            "536/536 [==============================] - 2s 3ms/step - loss: 0.3972 - accuracy: 0.8278 - val_loss: 0.4082 - val_accuracy: 0.8217\n",
            "Epoch 28/100\n",
            "536/536 [==============================] - 2s 3ms/step - loss: 0.3963 - accuracy: 0.8280 - val_loss: 0.4071 - val_accuracy: 0.8209\n",
            "Epoch 29/100\n",
            "536/536 [==============================] - 2s 3ms/step - loss: 0.3952 - accuracy: 0.8280 - val_loss: 0.4060 - val_accuracy: 0.8220\n",
            "Epoch 30/100\n",
            "536/536 [==============================] - 2s 4ms/step - loss: 0.3943 - accuracy: 0.8285 - val_loss: 0.4049 - val_accuracy: 0.8220\n",
            "Epoch 31/100\n",
            "536/536 [==============================] - 2s 4ms/step - loss: 0.3932 - accuracy: 0.8291 - val_loss: 0.4040 - val_accuracy: 0.8224\n",
            "Epoch 32/100\n",
            "536/536 [==============================] - 2s 3ms/step - loss: 0.3923 - accuracy: 0.8281 - val_loss: 0.4030 - val_accuracy: 0.8224\n",
            "Epoch 33/100\n",
            "536/536 [==============================] - 2s 4ms/step - loss: 0.3913 - accuracy: 0.8285 - val_loss: 0.4022 - val_accuracy: 0.8239\n",
            "Epoch 34/100\n",
            "536/536 [==============================] - 2s 4ms/step - loss: 0.3904 - accuracy: 0.8294 - val_loss: 0.4013 - val_accuracy: 0.8243\n",
            "Epoch 35/100\n",
            "536/536 [==============================] - 2s 4ms/step - loss: 0.3894 - accuracy: 0.8313 - val_loss: 0.4006 - val_accuracy: 0.8251\n",
            "Epoch 36/100\n",
            "536/536 [==============================] - 2s 4ms/step - loss: 0.3885 - accuracy: 0.8313 - val_loss: 0.3997 - val_accuracy: 0.8243\n",
            "Epoch 37/100\n",
            "536/536 [==============================] - 2s 3ms/step - loss: 0.3875 - accuracy: 0.8315 - val_loss: 0.3989 - val_accuracy: 0.8251\n",
            "Epoch 38/100\n",
            "536/536 [==============================] - 2s 3ms/step - loss: 0.3868 - accuracy: 0.8315 - val_loss: 0.3982 - val_accuracy: 0.8258\n",
            "Epoch 39/100\n",
            "536/536 [==============================] - 2s 4ms/step - loss: 0.3857 - accuracy: 0.8328 - val_loss: 0.3974 - val_accuracy: 0.8258\n",
            "Epoch 40/100\n",
            "536/536 [==============================] - 2s 4ms/step - loss: 0.3850 - accuracy: 0.8322 - val_loss: 0.3968 - val_accuracy: 0.8262\n",
            "Epoch 41/100\n",
            "536/536 [==============================] - 2s 3ms/step - loss: 0.3842 - accuracy: 0.8332 - val_loss: 0.3959 - val_accuracy: 0.8258\n",
            "Epoch 42/100\n",
            "536/536 [==============================] - 2s 4ms/step - loss: 0.3834 - accuracy: 0.8328 - val_loss: 0.3953 - val_accuracy: 0.8254\n",
            "Epoch 43/100\n",
            "536/536 [==============================] - 2s 4ms/step - loss: 0.3825 - accuracy: 0.8339 - val_loss: 0.3944 - val_accuracy: 0.8273\n",
            "Epoch 44/100\n",
            "536/536 [==============================] - 2s 4ms/step - loss: 0.3815 - accuracy: 0.8326 - val_loss: 0.3935 - val_accuracy: 0.8281\n",
            "Epoch 45/100\n",
            "536/536 [==============================] - 3s 6ms/step - loss: 0.3805 - accuracy: 0.8334 - val_loss: 0.3927 - val_accuracy: 0.8292\n",
            "Epoch 46/100\n",
            "536/536 [==============================] - 2s 4ms/step - loss: 0.3794 - accuracy: 0.8349 - val_loss: 0.3916 - val_accuracy: 0.8300\n",
            "Epoch 47/100\n",
            "536/536 [==============================] - 2s 4ms/step - loss: 0.3782 - accuracy: 0.8347 - val_loss: 0.3906 - val_accuracy: 0.8319\n",
            "Epoch 48/100\n",
            "536/536 [==============================] - 2s 3ms/step - loss: 0.3769 - accuracy: 0.8373 - val_loss: 0.3893 - val_accuracy: 0.8342\n",
            "Epoch 49/100\n",
            "536/536 [==============================] - 2s 4ms/step - loss: 0.3754 - accuracy: 0.8391 - val_loss: 0.3880 - val_accuracy: 0.8338\n",
            "Epoch 50/100\n",
            "536/536 [==============================] - 2s 4ms/step - loss: 0.3741 - accuracy: 0.8416 - val_loss: 0.3870 - val_accuracy: 0.8345\n",
            "Epoch 51/100\n",
            "536/536 [==============================] - 2s 3ms/step - loss: 0.3726 - accuracy: 0.8429 - val_loss: 0.3855 - val_accuracy: 0.8368\n",
            "Epoch 52/100\n",
            "536/536 [==============================] - 2s 4ms/step - loss: 0.3711 - accuracy: 0.8442 - val_loss: 0.3841 - val_accuracy: 0.8391\n",
            "Epoch 53/100\n",
            "536/536 [==============================] - 3s 6ms/step - loss: 0.3694 - accuracy: 0.8455 - val_loss: 0.3824 - val_accuracy: 0.8425\n",
            "Epoch 54/100\n",
            "536/536 [==============================] - 2s 4ms/step - loss: 0.3679 - accuracy: 0.8462 - val_loss: 0.3808 - val_accuracy: 0.8410\n",
            "Epoch 55/100\n",
            "536/536 [==============================] - 2s 3ms/step - loss: 0.3661 - accuracy: 0.8489 - val_loss: 0.3790 - val_accuracy: 0.8436\n",
            "Epoch 56/100\n",
            "536/536 [==============================] - 2s 3ms/step - loss: 0.3641 - accuracy: 0.8503 - val_loss: 0.3774 - val_accuracy: 0.8429\n",
            "Epoch 57/100\n",
            "536/536 [==============================] - 2s 4ms/step - loss: 0.3623 - accuracy: 0.8515 - val_loss: 0.3758 - val_accuracy: 0.8455\n",
            "Epoch 58/100\n",
            "536/536 [==============================] - 2s 4ms/step - loss: 0.3606 - accuracy: 0.8531 - val_loss: 0.3743 - val_accuracy: 0.8474\n",
            "Epoch 59/100\n",
            "536/536 [==============================] - 2s 3ms/step - loss: 0.3590 - accuracy: 0.8546 - val_loss: 0.3732 - val_accuracy: 0.8474\n",
            "Epoch 60/100\n",
            "536/536 [==============================] - 2s 3ms/step - loss: 0.3574 - accuracy: 0.8550 - val_loss: 0.3724 - val_accuracy: 0.8497\n",
            "Epoch 61/100\n",
            "536/536 [==============================] - 2s 3ms/step - loss: 0.3565 - accuracy: 0.8556 - val_loss: 0.3712 - val_accuracy: 0.8497\n",
            "Epoch 62/100\n",
            "536/536 [==============================] - 2s 4ms/step - loss: 0.3550 - accuracy: 0.8563 - val_loss: 0.3704 - val_accuracy: 0.8478\n",
            "Epoch 63/100\n",
            "536/536 [==============================] - 2s 4ms/step - loss: 0.3539 - accuracy: 0.8554 - val_loss: 0.3694 - val_accuracy: 0.8504\n",
            "Epoch 64/100\n",
            "536/536 [==============================] - 2s 4ms/step - loss: 0.3526 - accuracy: 0.8571 - val_loss: 0.3685 - val_accuracy: 0.8516\n",
            "Epoch 65/100\n",
            "536/536 [==============================] - 2s 3ms/step - loss: 0.3515 - accuracy: 0.8582 - val_loss: 0.3678 - val_accuracy: 0.8508\n",
            "Epoch 66/100\n",
            "536/536 [==============================] - 2s 3ms/step - loss: 0.3505 - accuracy: 0.8580 - val_loss: 0.3671 - val_accuracy: 0.8516\n",
            "Epoch 67/100\n",
            "536/536 [==============================] - 2s 3ms/step - loss: 0.3496 - accuracy: 0.8582 - val_loss: 0.3665 - val_accuracy: 0.8512\n",
            "Epoch 68/100\n",
            "536/536 [==============================] - 2s 4ms/step - loss: 0.3487 - accuracy: 0.8587 - val_loss: 0.3660 - val_accuracy: 0.8501\n",
            "Epoch 69/100\n",
            "536/536 [==============================] - 2s 4ms/step - loss: 0.3478 - accuracy: 0.8599 - val_loss: 0.3657 - val_accuracy: 0.8497\n",
            "Epoch 70/100\n",
            "536/536 [==============================] - 2s 3ms/step - loss: 0.3472 - accuracy: 0.8587 - val_loss: 0.3650 - val_accuracy: 0.8504\n",
            "Epoch 71/100\n",
            "536/536 [==============================] - 2s 4ms/step - loss: 0.3464 - accuracy: 0.8604 - val_loss: 0.3648 - val_accuracy: 0.8497\n",
            "Epoch 72/100\n",
            "536/536 [==============================] - 2s 4ms/step - loss: 0.3458 - accuracy: 0.8604 - val_loss: 0.3643 - val_accuracy: 0.8493\n",
            "Epoch 73/100\n",
            "536/536 [==============================] - 2s 3ms/step - loss: 0.3450 - accuracy: 0.8608 - val_loss: 0.3638 - val_accuracy: 0.8501\n",
            "Epoch 74/100\n",
            "536/536 [==============================] - 2s 4ms/step - loss: 0.3444 - accuracy: 0.8608 - val_loss: 0.3635 - val_accuracy: 0.8489\n",
            "Epoch 75/100\n",
            "536/536 [==============================] - 2s 3ms/step - loss: 0.3439 - accuracy: 0.8606 - val_loss: 0.3632 - val_accuracy: 0.8504\n",
            "Epoch 76/100\n",
            "536/536 [==============================] - 2s 3ms/step - loss: 0.3434 - accuracy: 0.8604 - val_loss: 0.3629 - val_accuracy: 0.8478\n",
            "Epoch 77/100\n",
            "536/536 [==============================] - 2s 4ms/step - loss: 0.3428 - accuracy: 0.8614 - val_loss: 0.3625 - val_accuracy: 0.8493\n",
            "Epoch 78/100\n",
            "536/536 [==============================] - 2s 3ms/step - loss: 0.3425 - accuracy: 0.8615 - val_loss: 0.3621 - val_accuracy: 0.8497\n",
            "Epoch 79/100\n",
            "536/536 [==============================] - 2s 3ms/step - loss: 0.3421 - accuracy: 0.8630 - val_loss: 0.3620 - val_accuracy: 0.8493\n",
            "Epoch 80/100\n",
            "536/536 [==============================] - 2s 4ms/step - loss: 0.3417 - accuracy: 0.8632 - val_loss: 0.3616 - val_accuracy: 0.8501\n",
            "Epoch 81/100\n",
            "536/536 [==============================] - 2s 3ms/step - loss: 0.3412 - accuracy: 0.8634 - val_loss: 0.3619 - val_accuracy: 0.8523\n",
            "Epoch 82/100\n",
            "536/536 [==============================] - 2s 3ms/step - loss: 0.3411 - accuracy: 0.8627 - val_loss: 0.3616 - val_accuracy: 0.8512\n",
            "Epoch 83/100\n",
            "536/536 [==============================] - 2s 3ms/step - loss: 0.3409 - accuracy: 0.8619 - val_loss: 0.3612 - val_accuracy: 0.8504\n",
            "Epoch 84/100\n",
            "536/536 [==============================] - 2s 4ms/step - loss: 0.3406 - accuracy: 0.8628 - val_loss: 0.3613 - val_accuracy: 0.8519\n",
            "Epoch 85/100\n",
            "536/536 [==============================] - 2s 4ms/step - loss: 0.3402 - accuracy: 0.8608 - val_loss: 0.3607 - val_accuracy: 0.8493\n",
            "Epoch 86/100\n",
            "536/536 [==============================] - 2s 3ms/step - loss: 0.3401 - accuracy: 0.8627 - val_loss: 0.3605 - val_accuracy: 0.8508\n",
            "Epoch 87/100\n",
            "536/536 [==============================] - 2s 4ms/step - loss: 0.3398 - accuracy: 0.8625 - val_loss: 0.3602 - val_accuracy: 0.8508\n",
            "Epoch 88/100\n",
            "536/536 [==============================] - 2s 4ms/step - loss: 0.3396 - accuracy: 0.8643 - val_loss: 0.3602 - val_accuracy: 0.8508\n",
            "Epoch 89/100\n",
            "536/536 [==============================] - 2s 3ms/step - loss: 0.3395 - accuracy: 0.8627 - val_loss: 0.3599 - val_accuracy: 0.8497\n",
            "Epoch 90/100\n",
            "536/536 [==============================] - 2s 4ms/step - loss: 0.3392 - accuracy: 0.8627 - val_loss: 0.3598 - val_accuracy: 0.8504\n",
            "Epoch 91/100\n",
            "536/536 [==============================] - 2s 4ms/step - loss: 0.3390 - accuracy: 0.8625 - val_loss: 0.3598 - val_accuracy: 0.8516\n",
            "Epoch 92/100\n",
            "536/536 [==============================] - 2s 3ms/step - loss: 0.3388 - accuracy: 0.8634 - val_loss: 0.3597 - val_accuracy: 0.8508\n",
            "Epoch 93/100\n",
            "536/536 [==============================] - 2s 3ms/step - loss: 0.3386 - accuracy: 0.8627 - val_loss: 0.3595 - val_accuracy: 0.8519\n",
            "Epoch 94/100\n",
            "536/536 [==============================] - 2s 3ms/step - loss: 0.3383 - accuracy: 0.8632 - val_loss: 0.3593 - val_accuracy: 0.8519\n",
            "Epoch 95/100\n",
            "536/536 [==============================] - 2s 4ms/step - loss: 0.3381 - accuracy: 0.8636 - val_loss: 0.3595 - val_accuracy: 0.8512\n",
            "Epoch 96/100\n",
            "536/536 [==============================] - 3s 5ms/step - loss: 0.3379 - accuracy: 0.8638 - val_loss: 0.3594 - val_accuracy: 0.8516\n",
            "Epoch 97/100\n",
            "536/536 [==============================] - 2s 3ms/step - loss: 0.3376 - accuracy: 0.8638 - val_loss: 0.3593 - val_accuracy: 0.8508\n",
            "Epoch 98/100\n",
            "536/536 [==============================] - 2s 3ms/step - loss: 0.3374 - accuracy: 0.8630 - val_loss: 0.3592 - val_accuracy: 0.8516\n",
            "Epoch 99/100\n",
            "536/536 [==============================] - 2s 4ms/step - loss: 0.3371 - accuracy: 0.8643 - val_loss: 0.3594 - val_accuracy: 0.8512\n",
            "Epoch 100/100\n",
            "536/536 [==============================] - 2s 3ms/step - loss: 0.3369 - accuracy: 0.8638 - val_loss: 0.3590 - val_accuracy: 0.8512\n",
            "dict_keys(['loss', 'accuracy', 'val_loss', 'val_accuracy'])\n"
          ]
        },
        {
          "output_type": "display_data",
          "data": {
            "text/plain": [
              "<Figure size 432x288 with 1 Axes>"
            ],
            "image/png": "[encoded data removed]"
          },
          "metadata": {
            "needs_background": "light"
          }
        },
        {
          "output_type": "display_data",
          "data": {
            "text/plain": [
              "<Figure size 432x288 with 1 Axes>"
            ],
            "image/png": "[encoded data removed]"
          },
          "metadata": {
            "needs_background": "light"
          }
        },
        {
          "output_type": "execute_result",
          "data": {
            "text/plain": [
              "0.8575"
            ]
          },
          "metadata": {},
          "execution_count": 5
        }
      ]
    },
    {
      "cell_type": "markdown",
      "source": [
        "Test Weather GPU is Working"
      ],
      "metadata": {
        "id": "x9CcXxicNcoM"
      }
    },
    {
      "cell_type": "code",
      "source": [
        "import tensorflow as tf\n",
        "tf.test.gpu_device_name()"
      ],
      "metadata": {
        "colab": {
          "base_uri": "https://localhost:8080/",
          "height": 36
        },
        "id": "IvXVQN5yLKBS",
        "outputId": "74b84270-e81a-41d4-acd9-085f80bcc48e"
      },
      "execution_count": 6,
      "outputs": [
        {
          "output_type": "execute_result",
          "data": {
            "text/plain": [
              "'/device:GPU:0'"
            ],
            "application/vnd.google.colaboratory.intrinsic+json": {
              "type": "string"
            }
          },
          "metadata": {},
          "execution_count": 6
        }
      ]
    },
    {
      "cell_type": "markdown",
      "source": [
        "Cheak which GPU we are using"
      ],
      "metadata": {
        "id": "WZkeEDZFNju5"
      }
    },
    {
      "cell_type": "code",
      "source": [
        "from tensorflow.python.client import device_lib\n",
        "device_lib.list_local_devices()"
      ],
      "metadata": {
        "id": "E7OgqvANMejC",
        "outputId": "63462347-d2f5-44b1-d922-28df622eb1e2",
        "colab": {
          "base_uri": "https://localhost:8080/"
        }
      },
      "execution_count": 7,
      "outputs": [
        {
          "output_type": "execute_result",
          "data": {
            "text/plain": [
              "[name: \"/device:CPU:0\"\n",
              " device_type: \"CPU\"\n",
              " memory_limit: 268435456\n",
              " locality {\n",
              " }\n",
              " incarnation: 17163915852113220110\n",
              " xla_global_id: -1, name: \"/device:GPU:0\"\n",
              " device_type: \"GPU\"\n",
              " memory_limit: 14444920832\n",
              " locality {\n",
              "   bus_id: 1\n",
              "   links {\n",
              "   }\n",
              " }\n",
              " incarnation: 5775035648863436575\n",
              " physical_device_desc: \"device: 0, name: Tesla T4, pci bus id: 0000:00:04.0, compute capability: 7.5\"\n",
              " xla_global_id: 416903419]"
            ]
          },
          "metadata": {},
          "execution_count": 7
        }
      ]
    },
    {
      "cell_type": "code",
      "source": [
        ""
      ],
      "metadata": {
        "id": "ALX1Z37xNIBD"
      },
      "execution_count": null,
      "outputs": []
    }
  ]
}